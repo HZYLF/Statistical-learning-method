{
 "cells": [
  {
   "cell_type": "markdown",
   "metadata": {},
   "source": [
    "# 第4章 朴素贝叶斯\n",
    "朴素贝叶斯的基本思想是： 基于特征条件独立假设学习输入和输出的联合概率分布，然后，基于此模型，对给定的输入$x$，利用贝叶斯订立求出后验概率最大的输出$y$，根据《统计学习方法》书中的规划，这里将简述朴素贝叶斯的学习和分类、朴素贝叶斯的参数估计方法。"
   ]
  },
  {
   "cell_type": "markdown",
   "metadata": {},
   "source": [
    "## 4.1 朴素贝叶斯的学习和分类\n",
    "输入:训练数据集\n",
    "$$T=\\{ \\left( x_1,y_1 \\right),\\left( x_2,y_2 \\right),\\left( x_i,y_i \\right),...,\\left( x_N,y_N \\right) \\}$$\n",
    "\n",
    "朴素贝叶斯的目的是： 通过训练数据集$T$学习到联合概率分布$P(X,Y)$，具体来讲，这个联合概率分布的求解根据联合概率密度求解的公式$P(x|y)=\\frac{P(x,y)}{P_Y(y)}$又分为两个部分：\n",
    ">先验概率分布：\n",
    "$$P(Y=c_k),k=1,2,...,K$$\n",
    ">条件概率分布：\n",
    "$$P(X=x|Y=c_k)=P(X^\\left(1\\right)=x^\\left(1\\right),...,X^\\left(n\\right)=x^\\left(n\\right)|Y=c_k),k=1,2,...,K$$"
   ]
  },
  {
   "cell_type": "markdown",
   "metadata": {},
   "source": [
    ">其中，条件独立性假设\n",
    "$$ P\\left( X=x|Y=c_k \\right)=P( X^\\left(1\\right)=x^\\left(1\\right),...,X^\\left(n\\right)=x^\\left(n\\right) )\n",
    "=\\prod_{j=1}^n P \\left(X^\\left(j \\right)=x^\\left( j \\right)| Y=c_k\\right)$$"
   ]
  },
  {
   "cell_type": "code",
   "execution_count": null,
   "metadata": {},
   "outputs": [],
   "source": []
  }
 ],
 "metadata": {
  "kernelspec": {
   "display_name": "Python 3",
   "language": "python",
   "name": "python3"
  },
  "language_info": {
   "codemirror_mode": {
    "name": "ipython",
    "version": 3
   },
   "file_extension": ".py",
   "mimetype": "text/x-python",
   "name": "python",
   "nbconvert_exporter": "python",
   "pygments_lexer": "ipython3",
   "version": "3.6.3"
  }
 },
 "nbformat": 4,
 "nbformat_minor": 2
}
