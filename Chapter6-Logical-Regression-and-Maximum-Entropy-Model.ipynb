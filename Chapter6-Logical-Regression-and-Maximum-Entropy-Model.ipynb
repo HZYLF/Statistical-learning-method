{
 "cells": [
  {
   "cell_type": "markdown",
   "metadata": {},
   "source": [
    "# 第6章 逻辑斯谛回归与最大熵模型\n",
    "## 6.1 逻辑斯谛回归\n",
    "逻辑斯谛回归模型假定随机变量X的数据分布符合逻辑斯谛回归,有:  \n",
    ">逻辑斯谛回归分布函数：\n",
    "$$F(x)=P(X \\leq x)=\\frac{1}{1+e^\\left(-\\frac{x-\\mu}{\\gamma}\\right)}$$\n",
    "\n",
    ">密度函数：\n",
    "$$f(x)=F'(x)=\\frac{e^\\left(-\\frac{x-\\mu}{\\gamma}\\right)}{\\gamma(1+e^\\left(-\\frac{x-\\mu}{\\gamma}\\right))^2}$$"
   ]
  },
  {
   "cell_type": "code",
   "execution_count": null,
   "metadata": {},
   "outputs": [],
   "source": []
  }
 ],
 "metadata": {
  "kernelspec": {
   "display_name": "Python 3",
   "language": "python",
   "name": "python3"
  },
  "language_info": {
   "codemirror_mode": {
    "name": "ipython",
    "version": 3
   },
   "file_extension": ".py",
   "mimetype": "text/x-python",
   "name": "python",
   "nbconvert_exporter": "python",
   "pygments_lexer": "ipython3",
   "version": "3.6.3"
  }
 },
 "nbformat": 4,
 "nbformat_minor": 2
}
